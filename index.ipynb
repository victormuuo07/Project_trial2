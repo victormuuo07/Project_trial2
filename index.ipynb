{
 "cells": [
  {
   "cell_type": "markdown",
   "metadata": {},
   "source": [
    "# Movie Recommendation For Microsoft's New Studio"
   ]
  },
  {
   "cell_type": "markdown",
   "metadata": {},
   "source": [
    "This project explores movie data to identify trends in box office performance and provide actionable recommendations for Microsoft's new movie studio."
   ]
  },
  {
   "cell_type": "markdown",
   "metadata": {},
   "source": [
    "### Overview"
   ]
  },
  {
   "cell_type": "markdown",
   "metadata": {},
   "source": [
    "Microsoft is venturing into movie production and seeks insights into successful film types. This analysis utilizes exploratory data analysis techniques to uncover patterns that can inform their content creation strategy."
   ]
  },
  {
   "cell_type": "markdown",
   "metadata": {},
   "source": [
    "### Business Problem"
   ]
  },
  {
   "cell_type": "markdown",
   "metadata": {},
   "source": [
    "Microsoft has decided to venture into the film industry by creating a new movie studio.  However, they lack prior experience in movie production. This project aims to leverage data analysis to provide valuable insights that can inform their content creation strategy."
   ]
  },
  {
   "cell_type": "markdown",
   "metadata": {},
   "source": [
    "### Data Understanding"
   ]
  },
  {
   "cell_type": "markdown",
   "metadata": {},
   "source": [
    "Here we will:\n",
    ">> * import the necessary libraries\n",
    ">> * Read the data files using pandas into a dataframe\n",
    ">> * Check what the datasets are made of, and check on various information which is going to answer the Five key Questions"
   ]
  },
  {
   "cell_type": "code",
   "execution_count": 1,
   "metadata": {},
   "outputs": [],
   "source": [
    "import pandas as pd\n",
    "import numpy as np\n",
    "import matplotlib.pyplot as plt\n",
    "import seaborn as sns"
   ]
  },
  {
   "cell_type": "code",
   "execution_count": 2,
   "metadata": {},
   "outputs": [],
   "source": [
    "bom= pd.read_csv('./data/bom.movie_gross.csv')\n",
    "tmdb=  pd.read_csv('./data/tmdb.movies.csv', index_col=0)\n",
    "tn= pd.read_csv('./data/tn.movie_budgets.csv')"
   ]
  },
  {
   "cell_type": "code",
   "execution_count": 3,
   "metadata": {},
   "outputs": [
    {
     "data": {
      "text/html": [
       "<div>\n",
       "<style scoped>\n",
       "    .dataframe tbody tr th:only-of-type {\n",
       "        vertical-align: middle;\n",
       "    }\n",
       "\n",
       "    .dataframe tbody tr th {\n",
       "        vertical-align: top;\n",
       "    }\n",
       "\n",
       "    .dataframe thead th {\n",
       "        text-align: right;\n",
       "    }\n",
       "</style>\n",
       "<table border=\"1\" class=\"dataframe\">\n",
       "  <thead>\n",
       "    <tr style=\"text-align: right;\">\n",
       "      <th></th>\n",
       "      <th>title</th>\n",
       "      <th>studio</th>\n",
       "      <th>domestic_gross</th>\n",
       "      <th>foreign_gross</th>\n",
       "      <th>year</th>\n",
       "    </tr>\n",
       "  </thead>\n",
       "  <tbody>\n",
       "    <tr>\n",
       "      <th>0</th>\n",
       "      <td>Toy Story 3</td>\n",
       "      <td>BV</td>\n",
       "      <td>415000000.0</td>\n",
       "      <td>652000000</td>\n",
       "      <td>2010</td>\n",
       "    </tr>\n",
       "    <tr>\n",
       "      <th>1</th>\n",
       "      <td>Alice in Wonderland (2010)</td>\n",
       "      <td>BV</td>\n",
       "      <td>334200000.0</td>\n",
       "      <td>691300000</td>\n",
       "      <td>2010</td>\n",
       "    </tr>\n",
       "    <tr>\n",
       "      <th>2</th>\n",
       "      <td>Harry Potter and the Deathly Hallows Part 1</td>\n",
       "      <td>WB</td>\n",
       "      <td>296000000.0</td>\n",
       "      <td>664300000</td>\n",
       "      <td>2010</td>\n",
       "    </tr>\n",
       "    <tr>\n",
       "      <th>3</th>\n",
       "      <td>Inception</td>\n",
       "      <td>WB</td>\n",
       "      <td>292600000.0</td>\n",
       "      <td>535700000</td>\n",
       "      <td>2010</td>\n",
       "    </tr>\n",
       "    <tr>\n",
       "      <th>4</th>\n",
       "      <td>Shrek Forever After</td>\n",
       "      <td>P/DW</td>\n",
       "      <td>238700000.0</td>\n",
       "      <td>513900000</td>\n",
       "      <td>2010</td>\n",
       "    </tr>\n",
       "  </tbody>\n",
       "</table>\n",
       "</div>"
      ],
      "text/plain": [
       "                                         title studio  domestic_gross  \\\n",
       "0                                  Toy Story 3     BV     415000000.0   \n",
       "1                   Alice in Wonderland (2010)     BV     334200000.0   \n",
       "2  Harry Potter and the Deathly Hallows Part 1     WB     296000000.0   \n",
       "3                                    Inception     WB     292600000.0   \n",
       "4                          Shrek Forever After   P/DW     238700000.0   \n",
       "\n",
       "  foreign_gross  year  \n",
       "0     652000000  2010  \n",
       "1     691300000  2010  \n",
       "2     664300000  2010  \n",
       "3     535700000  2010  \n",
       "4     513900000  2010  "
      ]
     },
     "execution_count": 3,
     "metadata": {},
     "output_type": "execute_result"
    }
   ],
   "source": [
    "bom.head(5)"
   ]
  },
  {
   "cell_type": "markdown",
   "metadata": {},
   "source": [
    "we have information about domestic and foreign gross telling us about the sell of the different movies here we can check the most sold movies with relation with year"
   ]
  },
  {
   "cell_type": "code",
   "execution_count": 4,
   "metadata": {},
   "outputs": [
    {
     "data": {
      "text/html": [
       "<div>\n",
       "<style scoped>\n",
       "    .dataframe tbody tr th:only-of-type {\n",
       "        vertical-align: middle;\n",
       "    }\n",
       "\n",
       "    .dataframe tbody tr th {\n",
       "        vertical-align: top;\n",
       "    }\n",
       "\n",
       "    .dataframe thead th {\n",
       "        text-align: right;\n",
       "    }\n",
       "</style>\n",
       "<table border=\"1\" class=\"dataframe\">\n",
       "  <thead>\n",
       "    <tr style=\"text-align: right;\">\n",
       "      <th></th>\n",
       "      <th>genre_ids</th>\n",
       "      <th>id</th>\n",
       "      <th>original_language</th>\n",
       "      <th>original_title</th>\n",
       "      <th>popularity</th>\n",
       "      <th>release_date</th>\n",
       "      <th>title</th>\n",
       "      <th>vote_average</th>\n",
       "      <th>vote_count</th>\n",
       "    </tr>\n",
       "  </thead>\n",
       "  <tbody>\n",
       "    <tr>\n",
       "      <th>0</th>\n",
       "      <td>[12, 14, 10751]</td>\n",
       "      <td>12444</td>\n",
       "      <td>en</td>\n",
       "      <td>Harry Potter and the Deathly Hallows: Part 1</td>\n",
       "      <td>33.533</td>\n",
       "      <td>11/19/2010</td>\n",
       "      <td>Harry Potter and the Deathly Hallows: Part 1</td>\n",
       "      <td>7.7</td>\n",
       "      <td>10788</td>\n",
       "    </tr>\n",
       "    <tr>\n",
       "      <th>1</th>\n",
       "      <td>[14, 12, 16, 10751]</td>\n",
       "      <td>10191</td>\n",
       "      <td>en</td>\n",
       "      <td>How to Train Your Dragon</td>\n",
       "      <td>28.734</td>\n",
       "      <td>3/26/2010</td>\n",
       "      <td>How to Train Your Dragon</td>\n",
       "      <td>7.7</td>\n",
       "      <td>7610</td>\n",
       "    </tr>\n",
       "    <tr>\n",
       "      <th>2</th>\n",
       "      <td>[12, 28, 878]</td>\n",
       "      <td>10138</td>\n",
       "      <td>en</td>\n",
       "      <td>Iron Man 2</td>\n",
       "      <td>28.515</td>\n",
       "      <td>5/7/2010</td>\n",
       "      <td>Iron Man 2</td>\n",
       "      <td>6.8</td>\n",
       "      <td>12368</td>\n",
       "    </tr>\n",
       "    <tr>\n",
       "      <th>3</th>\n",
       "      <td>[16, 35, 10751]</td>\n",
       "      <td>862</td>\n",
       "      <td>en</td>\n",
       "      <td>Toy Story</td>\n",
       "      <td>28.005</td>\n",
       "      <td>11/22/1995</td>\n",
       "      <td>Toy Story</td>\n",
       "      <td>7.9</td>\n",
       "      <td>10174</td>\n",
       "    </tr>\n",
       "    <tr>\n",
       "      <th>4</th>\n",
       "      <td>[28, 878, 12]</td>\n",
       "      <td>27205</td>\n",
       "      <td>en</td>\n",
       "      <td>Inception</td>\n",
       "      <td>27.920</td>\n",
       "      <td>7/16/2010</td>\n",
       "      <td>Inception</td>\n",
       "      <td>8.3</td>\n",
       "      <td>22186</td>\n",
       "    </tr>\n",
       "  </tbody>\n",
       "</table>\n",
       "</div>"
      ],
      "text/plain": [
       "             genre_ids     id original_language  \\\n",
       "0      [12, 14, 10751]  12444                en   \n",
       "1  [14, 12, 16, 10751]  10191                en   \n",
       "2        [12, 28, 878]  10138                en   \n",
       "3      [16, 35, 10751]    862                en   \n",
       "4        [28, 878, 12]  27205                en   \n",
       "\n",
       "                                 original_title  popularity release_date  \\\n",
       "0  Harry Potter and the Deathly Hallows: Part 1      33.533   11/19/2010   \n",
       "1                      How to Train Your Dragon      28.734    3/26/2010   \n",
       "2                                    Iron Man 2      28.515     5/7/2010   \n",
       "3                                     Toy Story      28.005   11/22/1995   \n",
       "4                                     Inception      27.920    7/16/2010   \n",
       "\n",
       "                                          title  vote_average  vote_count  \n",
       "0  Harry Potter and the Deathly Hallows: Part 1           7.7       10788  \n",
       "1                      How to Train Your Dragon           7.7        7610  \n",
       "2                                    Iron Man 2           6.8       12368  \n",
       "3                                     Toy Story           7.9       10174  \n",
       "4                                     Inception           8.3       22186  "
      ]
     },
     "execution_count": 4,
     "metadata": {},
     "output_type": "execute_result"
    }
   ],
   "source": [
    "tmdb.head(5)"
   ]
  },
  {
   "cell_type": "markdown",
   "metadata": {},
   "source": [
    "we have genre-ids ,and the popularity of some type of movie,we  can merge with the bom df on title part."
   ]
  },
  {
   "cell_type": "code",
   "execution_count": 5,
   "metadata": {},
   "outputs": [
    {
     "data": {
      "text/html": [
       "<div>\n",
       "<style scoped>\n",
       "    .dataframe tbody tr th:only-of-type {\n",
       "        vertical-align: middle;\n",
       "    }\n",
       "\n",
       "    .dataframe tbody tr th {\n",
       "        vertical-align: top;\n",
       "    }\n",
       "\n",
       "    .dataframe thead th {\n",
       "        text-align: right;\n",
       "    }\n",
       "</style>\n",
       "<table border=\"1\" class=\"dataframe\">\n",
       "  <thead>\n",
       "    <tr style=\"text-align: right;\">\n",
       "      <th></th>\n",
       "      <th>id</th>\n",
       "      <th>release_date</th>\n",
       "      <th>movie</th>\n",
       "      <th>production_budget</th>\n",
       "      <th>domestic_gross</th>\n",
       "      <th>worldwide_gross</th>\n",
       "    </tr>\n",
       "  </thead>\n",
       "  <tbody>\n",
       "    <tr>\n",
       "      <th>0</th>\n",
       "      <td>1</td>\n",
       "      <td>18-Dec-09</td>\n",
       "      <td>Avatar</td>\n",
       "      <td>$425,000,000</td>\n",
       "      <td>$760,507,625</td>\n",
       "      <td>$2,776,345,279</td>\n",
       "    </tr>\n",
       "    <tr>\n",
       "      <th>1</th>\n",
       "      <td>2</td>\n",
       "      <td>20-May-11</td>\n",
       "      <td>Pirates of the Caribbean: On Stranger Tides</td>\n",
       "      <td>$410,600,000</td>\n",
       "      <td>$241,063,875</td>\n",
       "      <td>$1,045,663,875</td>\n",
       "    </tr>\n",
       "    <tr>\n",
       "      <th>2</th>\n",
       "      <td>3</td>\n",
       "      <td>7-Jun-19</td>\n",
       "      <td>Dark Phoenix</td>\n",
       "      <td>$350,000,000</td>\n",
       "      <td>$42,762,350</td>\n",
       "      <td>$149,762,350</td>\n",
       "    </tr>\n",
       "    <tr>\n",
       "      <th>3</th>\n",
       "      <td>4</td>\n",
       "      <td>1-May-15</td>\n",
       "      <td>Avengers: Age of Ultron</td>\n",
       "      <td>$330,600,000</td>\n",
       "      <td>$459,005,868</td>\n",
       "      <td>$1,403,013,963</td>\n",
       "    </tr>\n",
       "    <tr>\n",
       "      <th>4</th>\n",
       "      <td>5</td>\n",
       "      <td>15-Dec-17</td>\n",
       "      <td>Star Wars Ep. VIII: The Last Jedi</td>\n",
       "      <td>$317,000,000</td>\n",
       "      <td>$620,181,382</td>\n",
       "      <td>$1,316,721,747</td>\n",
       "    </tr>\n",
       "  </tbody>\n",
       "</table>\n",
       "</div>"
      ],
      "text/plain": [
       "   id release_date                                        movie  \\\n",
       "0   1    18-Dec-09                                       Avatar   \n",
       "1   2    20-May-11  Pirates of the Caribbean: On Stranger Tides   \n",
       "2   3     7-Jun-19                                 Dark Phoenix   \n",
       "3   4     1-May-15                      Avengers: Age of Ultron   \n",
       "4   5    15-Dec-17            Star Wars Ep. VIII: The Last Jedi   \n",
       "\n",
       "  production_budget domestic_gross  worldwide_gross  \n",
       "0     $425,000,000   $760,507,625   $2,776,345,279   \n",
       "1     $410,600,000   $241,063,875   $1,045,663,875   \n",
       "2     $350,000,000    $42,762,350     $149,762,350   \n",
       "3     $330,600,000   $459,005,868   $1,403,013,963   \n",
       "4     $317,000,000   $620,181,382   $1,316,721,747   "
      ]
     },
     "execution_count": 5,
     "metadata": {},
     "output_type": "execute_result"
    }
   ],
   "source": [
    "tn.head(5)"
   ]
  },
  {
   "cell_type": "markdown",
   "metadata": {},
   "source": [
    "in this dataframe we can check the production budget of various movies with domestic gross and foreign gross"
   ]
  },
  {
   "cell_type": "markdown",
   "metadata": {},
   "source": [
    "### Data Preparation"
   ]
  },
  {
   "cell_type": "markdown",
   "metadata": {},
   "source": [
    "Will first check if theres null values then i'll merge the three files yields to a single dataset for feature engineering and analysis. "
   ]
  },
  {
   "cell_type": "code",
   "execution_count": 6,
   "metadata": {},
   "outputs": [
    {
     "data": {
      "text/plain": [
       "title                0\n",
       "studio               5\n",
       "domestic_gross      28\n",
       "foreign_gross     1350\n",
       "year                 0\n",
       "dtype: int64"
      ]
     },
     "execution_count": 6,
     "metadata": {},
     "output_type": "execute_result"
    }
   ],
   "source": [
    "bom.isnull().sum()"
   ]
  },
  {
   "cell_type": "code",
   "execution_count": 7,
   "metadata": {},
   "outputs": [
    {
     "data": {
      "text/plain": [
       "title              0.000000\n",
       "studio             0.147623\n",
       "domestic_gross     0.826690\n",
       "foreign_gross     39.858282\n",
       "year               0.000000\n",
       "dtype: float64"
      ]
     },
     "execution_count": 7,
     "metadata": {},
     "output_type": "execute_result"
    }
   ],
   "source": [
    "null_percentages = bom.isnull().mean() * 100  # Multiply by 100 for percentage\n",
    "null_percentages"
   ]
  },
  {
   "cell_type": "code",
   "execution_count": 8,
   "metadata": {},
   "outputs": [
    {
     "data": {
      "text/plain": [
       "title                0\n",
       "studio               0\n",
       "domestic_gross      26\n",
       "foreign_gross     1349\n",
       "year                 0\n",
       "dtype: int64"
      ]
     },
     "execution_count": 8,
     "metadata": {},
     "output_type": "execute_result"
    }
   ],
   "source": [
    "bom.dropna(subset=['studio'], inplace=True) # Drops rows with missing values in 'studio'\n",
    "bom.isnull().sum()"
   ]
  },
  {
   "cell_type": "code",
   "execution_count": 9,
   "metadata": {},
   "outputs": [
    {
     "data": {
      "text/plain": [
       "title                0\n",
       "studio               0\n",
       "domestic_gross       0\n",
       "foreign_gross     1349\n",
       "year                 0\n",
       "dtype: int64"
      ]
     },
     "execution_count": 9,
     "metadata": {},
     "output_type": "execute_result"
    }
   ],
   "source": [
    "most_frequent_gross = bom['domestic_gross'].mode()[0] # Find the mode value\n",
    "bom['domestic_gross'].fillna(most_frequent_gross, inplace=True)  # Replace missing values with the mode\n",
    "bom.isnull().sum()"
   ]
  },
  {
   "cell_type": "code",
   "execution_count": 10,
   "metadata": {},
   "outputs": [
    {
     "data": {
      "text/plain": [
       "<bound method Series.info of 0       652000000.0\n",
       "1       691300000.0\n",
       "2       664300000.0\n",
       "3       535700000.0\n",
       "4       513900000.0\n",
       "           ...     \n",
       "3382            NaN\n",
       "3383            NaN\n",
       "3384            NaN\n",
       "3385            NaN\n",
       "3386            NaN\n",
       "Name: foreign_gross, Length: 3382, dtype: float64>"
      ]
     },
     "execution_count": 10,
     "metadata": {},
     "output_type": "execute_result"
    }
   ],
   "source": [
    "bom['foreign_gross'] = pd.to_numeric(bom['foreign_gross'], errors='coerce')\n",
    "bom['foreign_gross'].info"
   ]
  },
  {
   "cell_type": "code",
   "execution_count": 11,
   "metadata": {},
   "outputs": [
    {
     "data": {
      "text/plain": [
       "title             0\n",
       "studio            0\n",
       "domestic_gross    0\n",
       "foreign_gross     0\n",
       "year              0\n",
       "dtype: int64"
      ]
     },
     "execution_count": 11,
     "metadata": {},
     "output_type": "execute_result"
    }
   ],
   "source": [
    "most_frequent_gross = bom['foreign_gross'].mode()[0] # Find the mode value\n",
    "bom['foreign_gross'].fillna(most_frequent_gross, inplace=True)  # Replace missing values with the mode\n",
    "bom.isnull().sum()"
   ]
  },
  {
   "cell_type": "code",
   "execution_count": 12,
   "metadata": {},
   "outputs": [
    {
     "data": {
      "text/plain": [
       "genre_ids            0\n",
       "id                   0\n",
       "original_language    0\n",
       "original_title       0\n",
       "popularity           0\n",
       "release_date         0\n",
       "title                0\n",
       "vote_average         0\n",
       "vote_count           0\n",
       "dtype: int64"
      ]
     },
     "execution_count": 12,
     "metadata": {},
     "output_type": "execute_result"
    }
   ],
   "source": [
    "tmdb.isnull().sum()"
   ]
  },
  {
   "cell_type": "markdown",
   "metadata": {},
   "source": [
    "its seems our data here is clean we can the merge it with bom dataframe"
   ]
  },
  {
   "cell_type": "code",
   "execution_count": 13,
   "metadata": {},
   "outputs": [
    {
     "data": {
      "text/html": [
       "<div>\n",
       "<style scoped>\n",
       "    .dataframe tbody tr th:only-of-type {\n",
       "        vertical-align: middle;\n",
       "    }\n",
       "\n",
       "    .dataframe tbody tr th {\n",
       "        vertical-align: top;\n",
       "    }\n",
       "\n",
       "    .dataframe thead th {\n",
       "        text-align: right;\n",
       "    }\n",
       "</style>\n",
       "<table border=\"1\" class=\"dataframe\">\n",
       "  <thead>\n",
       "    <tr style=\"text-align: right;\">\n",
       "      <th></th>\n",
       "      <th>title</th>\n",
       "      <th>studio</th>\n",
       "      <th>domestic_gross</th>\n",
       "      <th>foreign_gross</th>\n",
       "      <th>year</th>\n",
       "      <th>genre_ids</th>\n",
       "      <th>id</th>\n",
       "      <th>original_language</th>\n",
       "      <th>original_title</th>\n",
       "      <th>popularity</th>\n",
       "      <th>release_date</th>\n",
       "      <th>vote_average</th>\n",
       "      <th>vote_count</th>\n",
       "    </tr>\n",
       "  </thead>\n",
       "  <tbody>\n",
       "    <tr>\n",
       "      <th>0</th>\n",
       "      <td>Toy Story 3</td>\n",
       "      <td>BV</td>\n",
       "      <td>415000000.0</td>\n",
       "      <td>652000000.0</td>\n",
       "      <td>2010</td>\n",
       "      <td>[16, 10751, 35]</td>\n",
       "      <td>10193</td>\n",
       "      <td>en</td>\n",
       "      <td>Toy Story 3</td>\n",
       "      <td>24.445</td>\n",
       "      <td>6/17/2010</td>\n",
       "      <td>7.7</td>\n",
       "      <td>8340</td>\n",
       "    </tr>\n",
       "    <tr>\n",
       "      <th>1</th>\n",
       "      <td>Inception</td>\n",
       "      <td>WB</td>\n",
       "      <td>292600000.0</td>\n",
       "      <td>535700000.0</td>\n",
       "      <td>2010</td>\n",
       "      <td>[28, 878, 12]</td>\n",
       "      <td>27205</td>\n",
       "      <td>en</td>\n",
       "      <td>Inception</td>\n",
       "      <td>27.920</td>\n",
       "      <td>7/16/2010</td>\n",
       "      <td>8.3</td>\n",
       "      <td>22186</td>\n",
       "    </tr>\n",
       "    <tr>\n",
       "      <th>2</th>\n",
       "      <td>Shrek Forever After</td>\n",
       "      <td>P/DW</td>\n",
       "      <td>238700000.0</td>\n",
       "      <td>513900000.0</td>\n",
       "      <td>2010</td>\n",
       "      <td>[35, 12, 14, 16, 10751]</td>\n",
       "      <td>10192</td>\n",
       "      <td>en</td>\n",
       "      <td>Shrek Forever After</td>\n",
       "      <td>15.041</td>\n",
       "      <td>5/16/2010</td>\n",
       "      <td>6.1</td>\n",
       "      <td>3843</td>\n",
       "    </tr>\n",
       "    <tr>\n",
       "      <th>3</th>\n",
       "      <td>The Twilight Saga: Eclipse</td>\n",
       "      <td>Sum.</td>\n",
       "      <td>300500000.0</td>\n",
       "      <td>398000000.0</td>\n",
       "      <td>2010</td>\n",
       "      <td>[12, 14, 18, 10749]</td>\n",
       "      <td>24021</td>\n",
       "      <td>en</td>\n",
       "      <td>The Twilight Saga: Eclipse</td>\n",
       "      <td>20.340</td>\n",
       "      <td>6/23/2010</td>\n",
       "      <td>6.0</td>\n",
       "      <td>4909</td>\n",
       "    </tr>\n",
       "    <tr>\n",
       "      <th>4</th>\n",
       "      <td>Iron Man 2</td>\n",
       "      <td>Par.</td>\n",
       "      <td>312400000.0</td>\n",
       "      <td>311500000.0</td>\n",
       "      <td>2010</td>\n",
       "      <td>[12, 28, 878]</td>\n",
       "      <td>10138</td>\n",
       "      <td>en</td>\n",
       "      <td>Iron Man 2</td>\n",
       "      <td>28.515</td>\n",
       "      <td>5/7/2010</td>\n",
       "      <td>6.8</td>\n",
       "      <td>12368</td>\n",
       "    </tr>\n",
       "    <tr>\n",
       "      <th>...</th>\n",
       "      <td>...</td>\n",
       "      <td>...</td>\n",
       "      <td>...</td>\n",
       "      <td>...</td>\n",
       "      <td>...</td>\n",
       "      <td>...</td>\n",
       "      <td>...</td>\n",
       "      <td>...</td>\n",
       "      <td>...</td>\n",
       "      <td>...</td>\n",
       "      <td>...</td>\n",
       "      <td>...</td>\n",
       "      <td>...</td>\n",
       "    </tr>\n",
       "    <tr>\n",
       "      <th>2698</th>\n",
       "      <td>The Escape</td>\n",
       "      <td>IFC</td>\n",
       "      <td>14000.0</td>\n",
       "      <td>1200000.0</td>\n",
       "      <td>2018</td>\n",
       "      <td>[53, 28]</td>\n",
       "      <td>459814</td>\n",
       "      <td>en</td>\n",
       "      <td>The Escape</td>\n",
       "      <td>0.600</td>\n",
       "      <td>8/14/2015</td>\n",
       "      <td>7.0</td>\n",
       "      <td>1</td>\n",
       "    </tr>\n",
       "    <tr>\n",
       "      <th>2699</th>\n",
       "      <td>The Escape</td>\n",
       "      <td>IFC</td>\n",
       "      <td>14000.0</td>\n",
       "      <td>1200000.0</td>\n",
       "      <td>2018</td>\n",
       "      <td>[53, 28]</td>\n",
       "      <td>417004</td>\n",
       "      <td>en</td>\n",
       "      <td>The Escape</td>\n",
       "      <td>1.176</td>\n",
       "      <td>10/23/2016</td>\n",
       "      <td>6.6</td>\n",
       "      <td>10</td>\n",
       "    </tr>\n",
       "    <tr>\n",
       "      <th>2700</th>\n",
       "      <td>Souvenir</td>\n",
       "      <td>Strand</td>\n",
       "      <td>11400.0</td>\n",
       "      <td>1200000.0</td>\n",
       "      <td>2018</td>\n",
       "      <td>[35, 18]</td>\n",
       "      <td>408258</td>\n",
       "      <td>fr</td>\n",
       "      <td>Souvenir</td>\n",
       "      <td>2.130</td>\n",
       "      <td>9/8/2016</td>\n",
       "      <td>5.8</td>\n",
       "      <td>14</td>\n",
       "    </tr>\n",
       "    <tr>\n",
       "      <th>2701</th>\n",
       "      <td>The Quake</td>\n",
       "      <td>Magn.</td>\n",
       "      <td>6200.0</td>\n",
       "      <td>1200000.0</td>\n",
       "      <td>2018</td>\n",
       "      <td>[12]</td>\n",
       "      <td>416194</td>\n",
       "      <td>no</td>\n",
       "      <td>Skjelvet</td>\n",
       "      <td>11.051</td>\n",
       "      <td>12/14/2018</td>\n",
       "      <td>6.7</td>\n",
       "      <td>81</td>\n",
       "    </tr>\n",
       "    <tr>\n",
       "      <th>2702</th>\n",
       "      <td>An Actor Prepares</td>\n",
       "      <td>Grav.</td>\n",
       "      <td>1700.0</td>\n",
       "      <td>1200000.0</td>\n",
       "      <td>2018</td>\n",
       "      <td>[35, 18]</td>\n",
       "      <td>434596</td>\n",
       "      <td>en</td>\n",
       "      <td>An Actor Prepares</td>\n",
       "      <td>7.244</td>\n",
       "      <td>8/31/2018</td>\n",
       "      <td>6.5</td>\n",
       "      <td>10</td>\n",
       "    </tr>\n",
       "  </tbody>\n",
       "</table>\n",
       "<p>2703 rows × 13 columns</p>\n",
       "</div>"
      ],
      "text/plain": [
       "                           title  studio  domestic_gross  foreign_gross  year  \\\n",
       "0                    Toy Story 3      BV     415000000.0    652000000.0  2010   \n",
       "1                      Inception      WB     292600000.0    535700000.0  2010   \n",
       "2            Shrek Forever After    P/DW     238700000.0    513900000.0  2010   \n",
       "3     The Twilight Saga: Eclipse    Sum.     300500000.0    398000000.0  2010   \n",
       "4                     Iron Man 2    Par.     312400000.0    311500000.0  2010   \n",
       "...                          ...     ...             ...            ...   ...   \n",
       "2698                  The Escape     IFC         14000.0      1200000.0  2018   \n",
       "2699                  The Escape     IFC         14000.0      1200000.0  2018   \n",
       "2700                    Souvenir  Strand         11400.0      1200000.0  2018   \n",
       "2701                   The Quake   Magn.          6200.0      1200000.0  2018   \n",
       "2702           An Actor Prepares   Grav.          1700.0      1200000.0  2018   \n",
       "\n",
       "                    genre_ids      id original_language  \\\n",
       "0             [16, 10751, 35]   10193                en   \n",
       "1               [28, 878, 12]   27205                en   \n",
       "2     [35, 12, 14, 16, 10751]   10192                en   \n",
       "3         [12, 14, 18, 10749]   24021                en   \n",
       "4               [12, 28, 878]   10138                en   \n",
       "...                       ...     ...               ...   \n",
       "2698                 [53, 28]  459814                en   \n",
       "2699                 [53, 28]  417004                en   \n",
       "2700                 [35, 18]  408258                fr   \n",
       "2701                     [12]  416194                no   \n",
       "2702                 [35, 18]  434596                en   \n",
       "\n",
       "                  original_title  popularity release_date  vote_average  \\\n",
       "0                    Toy Story 3      24.445    6/17/2010           7.7   \n",
       "1                      Inception      27.920    7/16/2010           8.3   \n",
       "2            Shrek Forever After      15.041    5/16/2010           6.1   \n",
       "3     The Twilight Saga: Eclipse      20.340    6/23/2010           6.0   \n",
       "4                     Iron Man 2      28.515     5/7/2010           6.8   \n",
       "...                          ...         ...          ...           ...   \n",
       "2698                  The Escape       0.600    8/14/2015           7.0   \n",
       "2699                  The Escape       1.176   10/23/2016           6.6   \n",
       "2700                    Souvenir       2.130     9/8/2016           5.8   \n",
       "2701                    Skjelvet      11.051   12/14/2018           6.7   \n",
       "2702           An Actor Prepares       7.244    8/31/2018           6.5   \n",
       "\n",
       "      vote_count  \n",
       "0           8340  \n",
       "1          22186  \n",
       "2           3843  \n",
       "3           4909  \n",
       "4          12368  \n",
       "...          ...  \n",
       "2698           1  \n",
       "2699          10  \n",
       "2700          14  \n",
       "2701          81  \n",
       "2702          10  \n",
       "\n",
       "[2703 rows x 13 columns]"
      ]
     },
     "execution_count": 13,
     "metadata": {},
     "output_type": "execute_result"
    }
   ],
   "source": [
    "merged_df = pd.merge(bom, tmdb, on='title', how='inner')\n",
    "merged_df"
   ]
  },
  {
   "cell_type": "code",
   "execution_count": 14,
   "metadata": {},
   "outputs": [
    {
     "data": {
      "text/plain": [
       "id                   0\n",
       "release_date         0\n",
       "movie                0\n",
       "production_budget    0\n",
       "domestic_gross       0\n",
       "worldwide_gross      0\n",
       "dtype: int64"
      ]
     },
     "execution_count": 14,
     "metadata": {},
     "output_type": "execute_result"
    }
   ],
   "source": [
    "tn.isnull().sum()"
   ]
  },
  {
   "cell_type": "markdown",
   "metadata": {},
   "source": [
    "lets first remove the dollar signs so we can merge it with the merged_df"
   ]
  },
  {
   "cell_type": "code",
   "execution_count": 15,
   "metadata": {},
   "outputs": [
    {
     "data": {
      "text/plain": [
       "<bound method Series.info of 0       $425,000,000 \n",
       "1       $410,600,000 \n",
       "2       $350,000,000 \n",
       "3       $330,600,000 \n",
       "4       $317,000,000 \n",
       "            ...      \n",
       "5777          $7,000 \n",
       "5778          $6,000 \n",
       "5779          $5,000 \n",
       "5780          $1,400 \n",
       "5781          $1,100 \n",
       "Name: production_budget, Length: 5782, dtype: object>"
      ]
     },
     "execution_count": 15,
     "metadata": {},
     "output_type": "execute_result"
    }
   ],
   "source": [
    "tn['production_budget'].info"
   ]
  },
  {
   "cell_type": "code",
   "execution_count": 16,
   "metadata": {},
   "outputs": [],
   "source": [
    "# Remove dollar sign and commas, convert to numeric (float for decimals)\n",
    "tn['production_budget'] = pd.to_numeric(tn['production_budget'].str.replace('[$,]', '', regex=True), errors='coerce')\n"
   ]
  },
  {
   "cell_type": "code",
   "execution_count": 17,
   "metadata": {},
   "outputs": [
    {
     "data": {
      "text/plain": [
       "<bound method Series.info of 0       425000000\n",
       "1       410600000\n",
       "2       350000000\n",
       "3       330600000\n",
       "4       317000000\n",
       "          ...    \n",
       "5777         7000\n",
       "5778         6000\n",
       "5779         5000\n",
       "5780         1400\n",
       "5781         1100\n",
       "Name: production_budget, Length: 5782, dtype: int64>"
      ]
     },
     "execution_count": 17,
     "metadata": {},
     "output_type": "execute_result"
    }
   ],
   "source": [
    "tn['production_budget'].info"
   ]
  },
  {
   "cell_type": "code",
   "execution_count": 18,
   "metadata": {},
   "outputs": [
    {
     "data": {
      "text/plain": [
       "<bound method Series.info of 0       2776345279\n",
       "1       1045663875\n",
       "2        149762350\n",
       "3       1403013963\n",
       "4       1316721747\n",
       "           ...    \n",
       "5777             0\n",
       "5778        240495\n",
       "5779          1338\n",
       "5780             0\n",
       "5781        181041\n",
       "Name: worldwide_gross, Length: 5782, dtype: int64>"
      ]
     },
     "execution_count": 18,
     "metadata": {},
     "output_type": "execute_result"
    }
   ],
   "source": [
    "# Remove dollar sign and commas, convert to numeric (float for decimals)\n",
    "tn['worldwide_gross'] = pd.to_numeric(tn['worldwide_gross'].str.replace('[$,]', '', regex=True), errors='coerce')\n",
    "tn['worldwide_gross'].info\n"
   ]
  },
  {
   "cell_type": "code",
   "execution_count": 19,
   "metadata": {},
   "outputs": [
    {
     "data": {
      "text/plain": [
       "<bound method Series.info of 0       760507625\n",
       "1       241063875\n",
       "2        42762350\n",
       "3       459005868\n",
       "4       620181382\n",
       "          ...    \n",
       "5777            0\n",
       "5778        48482\n",
       "5779         1338\n",
       "5780            0\n",
       "5781       181041\n",
       "Name: domestic_gross, Length: 5782, dtype: int64>"
      ]
     },
     "execution_count": 19,
     "metadata": {},
     "output_type": "execute_result"
    }
   ],
   "source": [
    "# Remove dollar sign and commas, convert to numeric (float for decimals)\n",
    "tn['domestic_gross'] = pd.to_numeric(tn['domestic_gross'].str.replace('[$,]', '', regex=True), errors='coerce')\n",
    "tn['domestic_gross'].info"
   ]
  },
  {
   "cell_type": "code",
   "execution_count": 20,
   "metadata": {},
   "outputs": [
    {
     "data": {
      "text/html": [
       "<div>\n",
       "<style scoped>\n",
       "    .dataframe tbody tr th:only-of-type {\n",
       "        vertical-align: middle;\n",
       "    }\n",
       "\n",
       "    .dataframe tbody tr th {\n",
       "        vertical-align: top;\n",
       "    }\n",
       "\n",
       "    .dataframe thead th {\n",
       "        text-align: right;\n",
       "    }\n",
       "</style>\n",
       "<table border=\"1\" class=\"dataframe\">\n",
       "  <thead>\n",
       "    <tr style=\"text-align: right;\">\n",
       "      <th></th>\n",
       "      <th>title</th>\n",
       "      <th>studio</th>\n",
       "      <th>domestic_gross</th>\n",
       "      <th>foreign_gross</th>\n",
       "      <th>year</th>\n",
       "      <th>genre_ids</th>\n",
       "      <th>id_x</th>\n",
       "      <th>original_language</th>\n",
       "      <th>original_title</th>\n",
       "      <th>popularity</th>\n",
       "      <th>release_date_x</th>\n",
       "      <th>vote_average</th>\n",
       "      <th>vote_count</th>\n",
       "      <th>id_y</th>\n",
       "      <th>release_date_y</th>\n",
       "      <th>movie</th>\n",
       "      <th>production_budget</th>\n",
       "      <th>worldwide_gross</th>\n",
       "    </tr>\n",
       "  </thead>\n",
       "  <tbody>\n",
       "    <tr>\n",
       "      <th>0</th>\n",
       "      <td>Unstoppable</td>\n",
       "      <td>Fox</td>\n",
       "      <td>81600000.0</td>\n",
       "      <td>86200000.0</td>\n",
       "      <td>2010</td>\n",
       "      <td>[28, 53]</td>\n",
       "      <td>44048</td>\n",
       "      <td>en</td>\n",
       "      <td>Unstoppable</td>\n",
       "      <td>14.010</td>\n",
       "      <td>11/12/2010</td>\n",
       "      <td>6.4</td>\n",
       "      <td>1913</td>\n",
       "      <td>89</td>\n",
       "      <td>1-Jan-70</td>\n",
       "      <td>M*A*S*H</td>\n",
       "      <td>3500000</td>\n",
       "      <td>81600000</td>\n",
       "    </tr>\n",
       "    <tr>\n",
       "      <th>1</th>\n",
       "      <td>Unstoppable</td>\n",
       "      <td>Fox</td>\n",
       "      <td>81600000.0</td>\n",
       "      <td>86200000.0</td>\n",
       "      <td>2010</td>\n",
       "      <td>[99]</td>\n",
       "      <td>217664</td>\n",
       "      <td>en</td>\n",
       "      <td>Unstoppable</td>\n",
       "      <td>0.600</td>\n",
       "      <td>9/24/2013</td>\n",
       "      <td>1.6</td>\n",
       "      <td>4</td>\n",
       "      <td>89</td>\n",
       "      <td>1-Jan-70</td>\n",
       "      <td>M*A*S*H</td>\n",
       "      <td>3500000</td>\n",
       "      <td>81600000</td>\n",
       "    </tr>\n",
       "    <tr>\n",
       "      <th>2</th>\n",
       "      <td>Dear John</td>\n",
       "      <td>SGem</td>\n",
       "      <td>80000000.0</td>\n",
       "      <td>35000000.0</td>\n",
       "      <td>2010</td>\n",
       "      <td>[18, 10749, 10752]</td>\n",
       "      <td>22971</td>\n",
       "      <td>en</td>\n",
       "      <td>Dear John</td>\n",
       "      <td>12.048</td>\n",
       "      <td>2/4/2010</td>\n",
       "      <td>6.8</td>\n",
       "      <td>2676</td>\n",
       "      <td>61</td>\n",
       "      <td>17-Feb-84</td>\n",
       "      <td>Footloose</td>\n",
       "      <td>8200000</td>\n",
       "      <td>80000000</td>\n",
       "    </tr>\n",
       "    <tr>\n",
       "      <th>3</th>\n",
       "      <td>Dinner for Schmucks</td>\n",
       "      <td>P/DW</td>\n",
       "      <td>73000000.0</td>\n",
       "      <td>13800000.0</td>\n",
       "      <td>2010</td>\n",
       "      <td>[35]</td>\n",
       "      <td>38778</td>\n",
       "      <td>en</td>\n",
       "      <td>Dinner for Schmucks</td>\n",
       "      <td>6.632</td>\n",
       "      <td>7/30/2010</td>\n",
       "      <td>5.6</td>\n",
       "      <td>920</td>\n",
       "      <td>8</td>\n",
       "      <td>18-Nov-59</td>\n",
       "      <td>Ben-Hur</td>\n",
       "      <td>15000000</td>\n",
       "      <td>73259017</td>\n",
       "    </tr>\n",
       "    <tr>\n",
       "      <th>4</th>\n",
       "      <td>Justin Bieber: Never Say Never</td>\n",
       "      <td>Par.</td>\n",
       "      <td>73000000.0</td>\n",
       "      <td>26000000.0</td>\n",
       "      <td>2011</td>\n",
       "      <td>[99, 10402, 10751]</td>\n",
       "      <td>54518</td>\n",
       "      <td>en</td>\n",
       "      <td>Justin Bieber: Never Say Never</td>\n",
       "      <td>8.602</td>\n",
       "      <td>2/11/2011</td>\n",
       "      <td>5.1</td>\n",
       "      <td>240</td>\n",
       "      <td>8</td>\n",
       "      <td>18-Nov-59</td>\n",
       "      <td>Ben-Hur</td>\n",
       "      <td>15000000</td>\n",
       "      <td>73259017</td>\n",
       "    </tr>\n",
       "    <tr>\n",
       "      <th>...</th>\n",
       "      <td>...</td>\n",
       "      <td>...</td>\n",
       "      <td>...</td>\n",
       "      <td>...</td>\n",
       "      <td>...</td>\n",
       "      <td>...</td>\n",
       "      <td>...</td>\n",
       "      <td>...</td>\n",
       "      <td>...</td>\n",
       "      <td>...</td>\n",
       "      <td>...</td>\n",
       "      <td>...</td>\n",
       "      <td>...</td>\n",
       "      <td>...</td>\n",
       "      <td>...</td>\n",
       "      <td>...</td>\n",
       "      <td>...</td>\n",
       "      <td>...</td>\n",
       "    </tr>\n",
       "    <tr>\n",
       "      <th>691</th>\n",
       "      <td>Upgrade</td>\n",
       "      <td>BH Tilt</td>\n",
       "      <td>12000000.0</td>\n",
       "      <td>2400000.0</td>\n",
       "      <td>2018</td>\n",
       "      <td>[28, 53, 878]</td>\n",
       "      <td>500664</td>\n",
       "      <td>en</td>\n",
       "      <td>Upgrade</td>\n",
       "      <td>21.413</td>\n",
       "      <td>6/1/2018</td>\n",
       "      <td>7.4</td>\n",
       "      <td>1326</td>\n",
       "      <td>53</td>\n",
       "      <td>24-Jun-77</td>\n",
       "      <td>Sorcerer</td>\n",
       "      <td>21600000</td>\n",
       "      <td>12005968</td>\n",
       "    </tr>\n",
       "    <tr>\n",
       "      <th>692</th>\n",
       "      <td>Upgrade</td>\n",
       "      <td>BH Tilt</td>\n",
       "      <td>12000000.0</td>\n",
       "      <td>2400000.0</td>\n",
       "      <td>2018</td>\n",
       "      <td>[28, 53, 878]</td>\n",
       "      <td>500664</td>\n",
       "      <td>en</td>\n",
       "      <td>Upgrade</td>\n",
       "      <td>21.413</td>\n",
       "      <td>6/1/2018</td>\n",
       "      <td>7.4</td>\n",
       "      <td>1326</td>\n",
       "      <td>3</td>\n",
       "      <td>23-Feb-66</td>\n",
       "      <td>Harper</td>\n",
       "      <td>3500000</td>\n",
       "      <td>12000000</td>\n",
       "    </tr>\n",
       "    <tr>\n",
       "      <th>693</th>\n",
       "      <td>Midnight Sun</td>\n",
       "      <td>Global Road</td>\n",
       "      <td>9600000.0</td>\n",
       "      <td>17800000.0</td>\n",
       "      <td>2018</td>\n",
       "      <td>[10751, 12]</td>\n",
       "      <td>287935</td>\n",
       "      <td>en</td>\n",
       "      <td>Midnight Sun</td>\n",
       "      <td>4.145</td>\n",
       "      <td>9/1/2014</td>\n",
       "      <td>6.0</td>\n",
       "      <td>38</td>\n",
       "      <td>37</td>\n",
       "      <td>28-Jul-54</td>\n",
       "      <td>On the Waterfront</td>\n",
       "      <td>910000</td>\n",
       "      <td>9600000</td>\n",
       "    </tr>\n",
       "    <tr>\n",
       "      <th>694</th>\n",
       "      <td>Midnight Sun</td>\n",
       "      <td>Global Road</td>\n",
       "      <td>9600000.0</td>\n",
       "      <td>17800000.0</td>\n",
       "      <td>2018</td>\n",
       "      <td>[10749, 18]</td>\n",
       "      <td>419478</td>\n",
       "      <td>en</td>\n",
       "      <td>Midnight Sun</td>\n",
       "      <td>17.721</td>\n",
       "      <td>3/23/2018</td>\n",
       "      <td>7.7</td>\n",
       "      <td>1608</td>\n",
       "      <td>37</td>\n",
       "      <td>28-Jul-54</td>\n",
       "      <td>On the Waterfront</td>\n",
       "      <td>910000</td>\n",
       "      <td>9600000</td>\n",
       "    </tr>\n",
       "    <tr>\n",
       "      <th>695</th>\n",
       "      <td>The Wife</td>\n",
       "      <td>SPC</td>\n",
       "      <td>9600000.0</td>\n",
       "      <td>8600000.0</td>\n",
       "      <td>2018</td>\n",
       "      <td>[18]</td>\n",
       "      <td>340613</td>\n",
       "      <td>en</td>\n",
       "      <td>The Wife</td>\n",
       "      <td>12.374</td>\n",
       "      <td>8/17/2018</td>\n",
       "      <td>7.2</td>\n",
       "      <td>441</td>\n",
       "      <td>37</td>\n",
       "      <td>28-Jul-54</td>\n",
       "      <td>On the Waterfront</td>\n",
       "      <td>910000</td>\n",
       "      <td>9600000</td>\n",
       "    </tr>\n",
       "  </tbody>\n",
       "</table>\n",
       "<p>696 rows × 18 columns</p>\n",
       "</div>"
      ],
      "text/plain": [
       "                              title       studio  domestic_gross  \\\n",
       "0                       Unstoppable          Fox      81600000.0   \n",
       "1                       Unstoppable          Fox      81600000.0   \n",
       "2                         Dear John         SGem      80000000.0   \n",
       "3               Dinner for Schmucks         P/DW      73000000.0   \n",
       "4    Justin Bieber: Never Say Never         Par.      73000000.0   \n",
       "..                              ...          ...             ...   \n",
       "691                         Upgrade      BH Tilt      12000000.0   \n",
       "692                         Upgrade      BH Tilt      12000000.0   \n",
       "693                    Midnight Sun  Global Road       9600000.0   \n",
       "694                    Midnight Sun  Global Road       9600000.0   \n",
       "695                        The Wife          SPC       9600000.0   \n",
       "\n",
       "     foreign_gross  year           genre_ids    id_x original_language  \\\n",
       "0       86200000.0  2010            [28, 53]   44048                en   \n",
       "1       86200000.0  2010                [99]  217664                en   \n",
       "2       35000000.0  2010  [18, 10749, 10752]   22971                en   \n",
       "3       13800000.0  2010                [35]   38778                en   \n",
       "4       26000000.0  2011  [99, 10402, 10751]   54518                en   \n",
       "..             ...   ...                 ...     ...               ...   \n",
       "691      2400000.0  2018       [28, 53, 878]  500664                en   \n",
       "692      2400000.0  2018       [28, 53, 878]  500664                en   \n",
       "693     17800000.0  2018         [10751, 12]  287935                en   \n",
       "694     17800000.0  2018         [10749, 18]  419478                en   \n",
       "695      8600000.0  2018                [18]  340613                en   \n",
       "\n",
       "                     original_title  popularity release_date_x  vote_average  \\\n",
       "0                       Unstoppable      14.010     11/12/2010           6.4   \n",
       "1                       Unstoppable       0.600      9/24/2013           1.6   \n",
       "2                         Dear John      12.048       2/4/2010           6.8   \n",
       "3               Dinner for Schmucks       6.632      7/30/2010           5.6   \n",
       "4    Justin Bieber: Never Say Never       8.602      2/11/2011           5.1   \n",
       "..                              ...         ...            ...           ...   \n",
       "691                         Upgrade      21.413       6/1/2018           7.4   \n",
       "692                         Upgrade      21.413       6/1/2018           7.4   \n",
       "693                    Midnight Sun       4.145       9/1/2014           6.0   \n",
       "694                    Midnight Sun      17.721      3/23/2018           7.7   \n",
       "695                        The Wife      12.374      8/17/2018           7.2   \n",
       "\n",
       "     vote_count  id_y release_date_y              movie  production_budget  \\\n",
       "0          1913    89       1-Jan-70            M*A*S*H            3500000   \n",
       "1             4    89       1-Jan-70            M*A*S*H            3500000   \n",
       "2          2676    61      17-Feb-84          Footloose            8200000   \n",
       "3           920     8      18-Nov-59            Ben-Hur           15000000   \n",
       "4           240     8      18-Nov-59            Ben-Hur           15000000   \n",
       "..          ...   ...            ...                ...                ...   \n",
       "691        1326    53      24-Jun-77           Sorcerer           21600000   \n",
       "692        1326     3      23-Feb-66             Harper            3500000   \n",
       "693          38    37      28-Jul-54  On the Waterfront             910000   \n",
       "694        1608    37      28-Jul-54  On the Waterfront             910000   \n",
       "695         441    37      28-Jul-54  On the Waterfront             910000   \n",
       "\n",
       "     worldwide_gross  \n",
       "0           81600000  \n",
       "1           81600000  \n",
       "2           80000000  \n",
       "3           73259017  \n",
       "4           73259017  \n",
       "..               ...  \n",
       "691         12005968  \n",
       "692         12000000  \n",
       "693          9600000  \n",
       "694          9600000  \n",
       "695          9600000  \n",
       "\n",
       "[696 rows x 18 columns]"
      ]
     },
     "execution_count": 20,
     "metadata": {},
     "output_type": "execute_result"
    }
   ],
   "source": [
    "merged_data = pd.merge(merged_df, tn, on='domestic_gross', how='inner')\n",
    "merged_data"
   ]
  },
  {
   "cell_type": "markdown",
   "metadata": {},
   "source": [
    "well now lets proceed to analyzing our merged data"
   ]
  },
  {
   "cell_type": "code",
   "execution_count": 21,
   "metadata": {},
   "outputs": [
    {
     "name": "stdout",
     "output_type": "stream",
     "text": [
      "<class 'pandas.core.frame.DataFrame'>\n",
      "RangeIndex: 696 entries, 0 to 695\n",
      "Data columns (total 18 columns):\n",
      " #   Column             Non-Null Count  Dtype  \n",
      "---  ------             --------------  -----  \n",
      " 0   title              696 non-null    object \n",
      " 1   studio             696 non-null    object \n",
      " 2   domestic_gross     696 non-null    float64\n",
      " 3   foreign_gross      696 non-null    float64\n",
      " 4   year               696 non-null    int64  \n",
      " 5   genre_ids          696 non-null    object \n",
      " 6   id_x               696 non-null    int64  \n",
      " 7   original_language  696 non-null    object \n",
      " 8   original_title     696 non-null    object \n",
      " 9   popularity         696 non-null    float64\n",
      " 10  release_date_x     696 non-null    object \n",
      " 11  vote_average       696 non-null    float64\n",
      " 12  vote_count         696 non-null    int64  \n",
      " 13  id_y               696 non-null    int64  \n",
      " 14  release_date_y     696 non-null    object \n",
      " 15  movie              696 non-null    object \n",
      " 16  production_budget  696 non-null    int64  \n",
      " 17  worldwide_gross    696 non-null    int64  \n",
      "dtypes: float64(4), int64(6), object(8)\n",
      "memory usage: 98.0+ KB\n"
     ]
    }
   ],
   "source": [
    "merged_data.info()"
   ]
  },
  {
   "cell_type": "code",
   "execution_count": 22,
   "metadata": {},
   "outputs": [
    {
     "data": {
      "text/plain": [
       "65"
      ]
     },
     "execution_count": 22,
     "metadata": {},
     "output_type": "execute_result"
    }
   ],
   "source": [
    "merged_data.duplicated().sum()"
   ]
  },
  {
   "cell_type": "code",
   "execution_count": 23,
   "metadata": {},
   "outputs": [
    {
     "data": {
      "text/plain": [
       "0"
      ]
     },
     "execution_count": 23,
     "metadata": {},
     "output_type": "execute_result"
    }
   ],
   "source": [
    "# Drop the duplicates (inplace modification by default)\n",
    "merged_data.drop_duplicates(inplace=True)\n",
    "merged_data.duplicated().sum()"
   ]
  },
  {
   "cell_type": "code",
   "execution_count": 24,
   "metadata": {},
   "outputs": [
    {
     "data": {
      "text/html": [
       "<div>\n",
       "<style scoped>\n",
       "    .dataframe tbody tr th:only-of-type {\n",
       "        vertical-align: middle;\n",
       "    }\n",
       "\n",
       "    .dataframe tbody tr th {\n",
       "        vertical-align: top;\n",
       "    }\n",
       "\n",
       "    .dataframe thead th {\n",
       "        text-align: right;\n",
       "    }\n",
       "</style>\n",
       "<table border=\"1\" class=\"dataframe\">\n",
       "  <thead>\n",
       "    <tr style=\"text-align: right;\">\n",
       "      <th></th>\n",
       "      <th>domestic_gross</th>\n",
       "      <th>foreign_gross</th>\n",
       "      <th>year</th>\n",
       "      <th>id_x</th>\n",
       "      <th>popularity</th>\n",
       "      <th>vote_average</th>\n",
       "      <th>vote_count</th>\n",
       "      <th>id_y</th>\n",
       "      <th>production_budget</th>\n",
       "      <th>worldwide_gross</th>\n",
       "    </tr>\n",
       "  </thead>\n",
       "  <tbody>\n",
       "    <tr>\n",
       "      <th>count</th>\n",
       "      <td>6.310000e+02</td>\n",
       "      <td>6.310000e+02</td>\n",
       "      <td>631.000000</td>\n",
       "      <td>631.000000</td>\n",
       "      <td>631.000000</td>\n",
       "      <td>631.000000</td>\n",
       "      <td>631.000000</td>\n",
       "      <td>631.000000</td>\n",
       "      <td>6.310000e+02</td>\n",
       "      <td>6.310000e+02</td>\n",
       "    </tr>\n",
       "    <tr>\n",
       "      <th>mean</th>\n",
       "      <td>8.856937e+06</td>\n",
       "      <td>1.750017e+07</td>\n",
       "      <td>2014.280507</td>\n",
       "      <td>229045.640254</td>\n",
       "      <td>9.371713</td>\n",
       "      <td>6.541363</td>\n",
       "      <td>682.359746</td>\n",
       "      <td>46.451664</td>\n",
       "      <td>8.791870e+06</td>\n",
       "      <td>1.319791e+07</td>\n",
       "    </tr>\n",
       "    <tr>\n",
       "      <th>std</th>\n",
       "      <td>1.410204e+07</td>\n",
       "      <td>4.732198e+07</td>\n",
       "      <td>2.386919</td>\n",
       "      <td>137656.315303</td>\n",
       "      <td>5.473495</td>\n",
       "      <td>0.873463</td>\n",
       "      <td>859.012740</td>\n",
       "      <td>27.520563</td>\n",
       "      <td>1.474674e+07</td>\n",
       "      <td>2.805668e+07</td>\n",
       "    </tr>\n",
       "    <tr>\n",
       "      <th>min</th>\n",
       "      <td>5.000000e+03</td>\n",
       "      <td>6.000000e+02</td>\n",
       "      <td>2010.000000</td>\n",
       "      <td>22971.000000</td>\n",
       "      <td>0.600000</td>\n",
       "      <td>1.600000</td>\n",
       "      <td>1.000000</td>\n",
       "      <td>1.000000</td>\n",
       "      <td>2.500000e+04</td>\n",
       "      <td>5.000000e+03</td>\n",
       "    </tr>\n",
       "    <tr>\n",
       "      <th>25%</th>\n",
       "      <td>2.000000e+06</td>\n",
       "      <td>1.200000e+06</td>\n",
       "      <td>2012.000000</td>\n",
       "      <td>83782.000000</td>\n",
       "      <td>6.783500</td>\n",
       "      <td>6.000000</td>\n",
       "      <td>130.500000</td>\n",
       "      <td>23.000000</td>\n",
       "      <td>1.250000e+06</td>\n",
       "      <td>2.000000e+06</td>\n",
       "    </tr>\n",
       "    <tr>\n",
       "      <th>50%</th>\n",
       "      <td>4.000000e+06</td>\n",
       "      <td>2.800000e+06</td>\n",
       "      <td>2015.000000</td>\n",
       "      <td>245916.000000</td>\n",
       "      <td>9.014000</td>\n",
       "      <td>6.600000</td>\n",
       "      <td>417.000000</td>\n",
       "      <td>49.000000</td>\n",
       "      <td>3.768785e+06</td>\n",
       "      <td>4.358000e+06</td>\n",
       "    </tr>\n",
       "    <tr>\n",
       "      <th>75%</th>\n",
       "      <td>8.000000e+06</td>\n",
       "      <td>1.660000e+07</td>\n",
       "      <td>2016.000000</td>\n",
       "      <td>337869.500000</td>\n",
       "      <td>11.494000</td>\n",
       "      <td>7.100000</td>\n",
       "      <td>915.500000</td>\n",
       "      <td>69.000000</td>\n",
       "      <td>1.100000e+07</td>\n",
       "      <td>1.000032e+07</td>\n",
       "    </tr>\n",
       "    <tr>\n",
       "      <th>max</th>\n",
       "      <td>9.880000e+07</td>\n",
       "      <td>5.777000e+08</td>\n",
       "      <td>2018.000000</td>\n",
       "      <td>567604.000000</td>\n",
       "      <td>78.123000</td>\n",
       "      <td>10.000000</td>\n",
       "      <td>10081.000000</td>\n",
       "      <td>100.000000</td>\n",
       "      <td>1.100000e+08</td>\n",
       "      <td>2.635914e+08</td>\n",
       "    </tr>\n",
       "  </tbody>\n",
       "</table>\n",
       "</div>"
      ],
      "text/plain": [
       "       domestic_gross  foreign_gross         year           id_x  popularity  \\\n",
       "count    6.310000e+02   6.310000e+02   631.000000     631.000000  631.000000   \n",
       "mean     8.856937e+06   1.750017e+07  2014.280507  229045.640254    9.371713   \n",
       "std      1.410204e+07   4.732198e+07     2.386919  137656.315303    5.473495   \n",
       "min      5.000000e+03   6.000000e+02  2010.000000   22971.000000    0.600000   \n",
       "25%      2.000000e+06   1.200000e+06  2012.000000   83782.000000    6.783500   \n",
       "50%      4.000000e+06   2.800000e+06  2015.000000  245916.000000    9.014000   \n",
       "75%      8.000000e+06   1.660000e+07  2016.000000  337869.500000   11.494000   \n",
       "max      9.880000e+07   5.777000e+08  2018.000000  567604.000000   78.123000   \n",
       "\n",
       "       vote_average    vote_count        id_y  production_budget  \\\n",
       "count    631.000000    631.000000  631.000000       6.310000e+02   \n",
       "mean       6.541363    682.359746   46.451664       8.791870e+06   \n",
       "std        0.873463    859.012740   27.520563       1.474674e+07   \n",
       "min        1.600000      1.000000    1.000000       2.500000e+04   \n",
       "25%        6.000000    130.500000   23.000000       1.250000e+06   \n",
       "50%        6.600000    417.000000   49.000000       3.768785e+06   \n",
       "75%        7.100000    915.500000   69.000000       1.100000e+07   \n",
       "max       10.000000  10081.000000  100.000000       1.100000e+08   \n",
       "\n",
       "       worldwide_gross  \n",
       "count     6.310000e+02  \n",
       "mean      1.319791e+07  \n",
       "std       2.805668e+07  \n",
       "min       5.000000e+03  \n",
       "25%       2.000000e+06  \n",
       "50%       4.358000e+06  \n",
       "75%       1.000032e+07  \n",
       "max       2.635914e+08  "
      ]
     },
     "execution_count": 24,
     "metadata": {},
     "output_type": "execute_result"
    }
   ],
   "source": [
    "merged_data.describe()"
   ]
  },
  {
   "cell_type": "markdown",
   "metadata": {},
   "source": [
    "create a histogram or boxplot to visualize the distribution of production budgets and worldwide gross in your data:"
   ]
  },
  {
   "cell_type": "code",
   "execution_count": 25,
   "metadata": {},
   "outputs": [
    {
     "data": {
      "image/png": "[encoded data removed]",
      "text/plain": [
       "<Figure size 1200x600 with 2 Axes>"
      ]
     },
     "metadata": {},
     "output_type": "display_data"
    }
   ],
   "source": [
    "\n",
    "\n",
    "# Create subplots for better organization\n",
    "fig, (ax1, ax2) = plt.subplots(1, 2, figsize=(12, 6))\n",
    "\n",
    "# Histogram for Production Budget\n",
    "ax1.hist(merged_data['production_budget'], bins=20, edgecolor='black', alpha=0.7)\n",
    "ax1.set_title('Distribution of Production Budget')\n",
    "ax1.set_xlabel('Production Budget (USD)')\n",
    "ax1.set_ylabel('Frequency')\n",
    "ax1.grid(True)\n",
    "\n",
    "# Boxplot for Worldwide Gross\n",
    "ax2.hist(merged_data['worldwide_gross'], bins=20, edgecolor='blue', alpha=0.7)\n",
    "ax2.set_title('Distribution of Worldwide Gross')\n",
    "ax2.set_xlabel('Worldwide Gross (USD)')\n",
    "ax2.set_ylabel('Value')\n",
    "ax2.grid(True)\n",
    "\n",
    "# Adjust layout and display the plot\n",
    "plt.tight_layout()\n",
    "plt.show()\n"
   ]
  },
  {
   "cell_type": "markdown",
   "metadata": {},
   "source": [
    "Production Budget: The distribution of production budgets appears to be skewed to the right. This means that there are more movies with lower production budgets than there are movies with higher production budgets. There could be a few outliers on the right side of the plot, representing movies with very high production budgets."
   ]
  },
  {
   "cell_type": "markdown",
   "metadata": {},
   "source": [
    "Worldwide Gross: It's difficult to say definitively from this graph whether the worldwide gross is skewed or not. The distribution appears to be wider on the right side, which could indicate a positive skew, but it's also possible that the distribution is more symmetrical than it appears due to the way the data is binned."
   ]
  },
  {
   "cell_type": "code",
   "execution_count": 26,
   "metadata": {},
   "outputs": [
    {
     "name": "stderr",
     "output_type": "stream",
     "text": [
      "c:\\Users\\user\\anaconda3\\Lib\\site-packages\\seaborn\\_oldcore.py:1119: FutureWarning: use_inf_as_na option is deprecated and will be removed in a future version. Convert inf values to NaN before operating instead.\n",
      "  with pd.option_context('mode.use_inf_as_na', True):\n"
     ]
    },
    {
     "data": {
      "image/png": "[encoded data removed]",
      "text/plain": [
       "<Figure size 500x500 with 1 Axes>"
      ]
     },
     "metadata": {},
     "output_type": "display_data"
    }
   ],
   "source": [
    "\n",
    "\n",
    "# Create a single figure with two subplots\n",
    "sns.displot(merged_data['production_budget'], kde=True, color='skyblue')\n",
    "\n",
    "plt.show();\n"
   ]
  },
  {
   "cell_type": "code",
   "execution_count": 28,
   "metadata": {},
   "outputs": [
    {
     "data": {
      "image/png": "[encoded data removed]",
      "text/plain": [
       "<Figure size 1200x600 with 2 Axes>"
      ]
     },
     "metadata": {},
     "output_type": "display_data"
    }
   ],
   "source": [
    "# Create subplots for better organization\n",
    "fig, (ax1, ax2) = plt.subplots(1, 2, figsize=(12, 6))\n",
    "\n",
    "# Histogram for Production Budget\n",
    "ax1.boxplot(merged_data['production_budget'])\n",
    "ax1.set_title('Distribution of Production Budget')\n",
    "ax1.set_xlabel('Production Budget (USD)')\n",
    "ax1.set_ylabel('Frequency')\n",
    "ax1.grid(True)\n",
    "\n",
    "# Boxplot for Worldwide Gross\n",
    "ax2.boxplot(merged_data['worldwide_gross'])\n",
    "ax2.set_title('Distribution of Worldwide Gross')\n",
    "ax2.set_xlabel('Worldwide Gross (USD)')\n",
    "ax2.set_ylabel('Value')\n",
    "ax2.grid(True)\n",
    "\n",
    "# Adjust layout and display the plot\n",
    "plt.tight_layout()\n",
    "plt.show()"
   ]
  },
  {
   "cell_type": "code",
   "execution_count": 29,
   "metadata": {},
   "outputs": [],
   "source": [
    "Q1 = merged_data['worldwide_gross'].quantile(0.25)\n",
    "Q3 = merged_data['worldwide_gross'].quantile(0.75)\n",
    "IQR = Q3 - Q1\n",
    "\n"
   ]
  },
  {
   "cell_type": "code",
   "execution_count": 30,
   "metadata": {},
   "outputs": [],
   "source": [
    "lower_bound = Q1 - (1.5 * IQR)\n",
    "upper_bound = Q3 + (1.5 * IQR)\n"
   ]
  },
  {
   "cell_type": "code",
   "execution_count": null,
   "metadata": {},
   "outputs": [],
   "source": [
    "outliers = merged_data[(merged_data['worldwide_gross'] < lower_bound) | (merged_data['worldwide_gross'] > upper_bound)]\n"
   ]
  }
 ],
 "metadata": {
  "kernelspec": {
   "display_name": "Python (learn-env)",
   "language": "python",
   "name": "learn-env"
  },
  "language_info": {
   "codemirror_mode": {
    "name": "ipython",
    "version": 3
   },
   "file_extension": ".py",
   "mimetype": "text/x-python",
   "name": "python",
   "nbconvert_exporter": "python",
   "pygments_lexer": "ipython3",
   "version": "3.11.7"
  }
 },
 "nbformat": 4,
 "nbformat_minor": 2
}
